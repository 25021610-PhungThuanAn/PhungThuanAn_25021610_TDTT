{
  "metadata": {
    "kernelspec": {
      "name": "python",
      "display_name": "Python (Pyodide)",
      "language": "python"
    },
    "language_info": {
      "codemirror_mode": {
        "name": "python",
        "version": 3
      },
      "file_extension": ".py",
      "mimetype": "text/x-python",
      "name": "python",
      "nbconvert_exporter": "python",
      "pygments_lexer": "ipython3",
      "version": "3.8"
    }
  },
  "nbformat_minor": 5,
  "nbformat": 4,
  "cells": [
    {
      "id": "6fbecc7d-475f-49bf-aca1-2b5b8678e106",
      "cell_type": "code",
      "source": "#W3A2\na = 3\nb = 4\nprint(a, b)\na, b = b, a\nprint(a, b)\n\na = 3\nb = 4\nprint(a, b)\na = a + b\nb = a - b\na = a - b\nprint(a, b)\n\na = 3\nb = 4\nprint(a, b)\nc = a ^ b \nb = c ^ b \na = c ^ a \nprint(a, b)\n\na = 3\nb = 4\nprint(a, b)\na = a ^ b\nb = a ^ b\na = a ^ b\nprint(a, b)\n",
      "metadata": {
        "trusted": true
      },
      "outputs": [
        {
          "name": "stdout",
          "output_type": "stream",
          "text": "3 4\n4 3\n3 4\n4 3\n3 4\n4 3\n3 4\n4 3\n"
        }
      ],
      "execution_count": 28
    },
    {
      "id": "2e09538d-55d2-4295-ad48-a3bb066c66cb",
      "cell_type": "code",
      "source": "#W3A3\na = int(input())\nif a & (a - 1) ==0:\n    print(a, \"là lũy thừa của 2\")\nelse:\n    print(a, \"không phải lũy thừa của 2\")",
      "metadata": {
        "trusted": true
      },
      "outputs": [
        {
          "output_type": "stream",
          "name": "stdin",
          "text": " 4\n"
        },
        {
          "name": "stdout",
          "output_type": "stream",
          "text": "4 là lũy thừa của 2\n"
        }
      ],
      "execution_count": 35
    },
    {
      "id": "69477d68-6cbb-487c-b3cd-ee36d0870e54",
      "cell_type": "code",
      "source": "#W3A4\nm = float(input(\"Nhập số m\"))\nn = float(input(\"Nhập số n\"))\nprint(\"m / n =\", m // n)",
      "metadata": {
        "trusted": true
      },
      "outputs": [],
      "execution_count": null
    },
    {
      "id": "7fdf1775-a3b1-4b66-9a05-16857b6ad933",
      "cell_type": "code",
      "source": "#W3A5\nm = float(input(\"Nhập số m\"))\nn = float(input(\"Nhập số n\"))\nif m / n == m // n:\n    print(\"m / n =\", m / n)\nelse:\n    phan_du = m % n\n    phan_nguyen = m // n\n    kq = phan_nguyen + 1\n    print(\"m / n =\", kq)",
      "metadata": {
        "trusted": true
      },
      "outputs": [
        {
          "output_type": "stream",
          "name": "stdin",
          "text": "Nhập số m 5 \nNhập số n 6\n"
        },
        {
          "name": "stdout",
          "output_type": "stream",
          "text": "m / n = 1.0\n"
        }
      ],
      "execution_count": 36
    },
    {
      "id": "1874c54e-dff6-42b6-82e0-e141377b0ead",
      "cell_type": "code",
      "source": "#W3A6\nx = int(input(\"Nhập 1 số nguyên dương :\"))\nif x % 2 == 0:\n    print(\"Even\")\nelse:\n    print(\"Odd\")\n\nif x & 1 == 0:\n    print(\"Even\")\nelse:\n    print(\"Odd\")",
      "metadata": {
        "trusted": true
      },
      "outputs": [
        {
          "output_type": "stream",
          "name": "stdin",
          "text": "Nhập 1 số nguyên dương : 5\n"
        },
        {
          "name": "stdout",
          "output_type": "stream",
          "text": "Odd\nOdd\n"
        }
      ],
      "execution_count": 41
    },
    {
      "id": "9361caa4-7d07-428a-b66a-050c2971b82a",
      "cell_type": "code",
      "source": "#W3A7\na = int(input(\"Nhập số nguyên a\"))\nb = int(input(\"Nhập số nguyên b\"))\nif a * b > 0 and a + b < 0:\n    print(\"Yes\")\nelse:\n    print(\"No\")",
      "metadata": {
        "trusted": true
      },
      "outputs": [
        {
          "output_type": "stream",
          "name": "stdin",
          "text": "Nhập số nguyên a 3\nNhập số nguyên b 5\n"
        },
        {
          "name": "stdout",
          "output_type": "stream",
          "text": "No\n"
        }
      ],
      "execution_count": 42
    },
    {
      "id": "1356936a-b8dd-498c-a43c-2012f0613239",
      "cell_type": "code",
      "source": "#W3A8\nchuoi_a = input(\"Nhập chuỗi a\")\nchuoi_b = input(\"Nhập chuỗi b\")\na = len(chuoi_a) \nb = len(chuoi_b)\nif a > b:\n    print(\"True\")\nelse:\n    print(\"False\")",
      "metadata": {
        "trusted": true
      },
      "outputs": [
        {
          "output_type": "stream",
          "name": "stdin",
          "text": "Nhập chuỗi a hjhjbjb\nNhập chuỗi b jhbjhb\n"
        },
        {
          "name": "stdout",
          "output_type": "stream",
          "text": "True\n"
        }
      ],
      "execution_count": 47
    },
    {
      "id": "b4589936-6c4f-45c3-b663-2ed969217945",
      "cell_type": "code",
      "source": "#W3A9\na, b, c = map(float, input().split())\nif a * b * c > 0 and a + b > c and a + c > b and b + c > a:\n    print(\"Yes\")\nelse:\n    print(\"No\")",
      "metadata": {
        "trusted": true
      },
      "outputs": [
        {
          "output_type": "stream",
          "name": "stdin",
          "text": " 4 6 3\n"
        },
        {
          "name": "stdout",
          "output_type": "stream",
          "text": "Yes\n"
        }
      ],
      "execution_count": 49
    },
    {
      "id": "d642ec7f-982d-4a7d-b85d-90d43d49c983",
      "cell_type": "code",
      "source": "#W3A10\na, b, c, d = map(int, input().split())\nprint(max(a, b, c, d))",
      "metadata": {
        "trusted": true
      },
      "outputs": [
        {
          "output_type": "stream",
          "name": "stdin",
          "text": " 4 6 3 4\n"
        },
        {
          "name": "stdout",
          "output_type": "stream",
          "text": "6\n"
        }
      ],
      "execution_count": 52
    },
    {
      "id": "a3ca42fb-f872-46b7-b75c-ecdcb0a7780c",
      "cell_type": "code",
      "source": "#W3A11\na, b, c = map(float, input(\"Nhập 3 số bất kì ngăn cách nhau bởi 1 dấu cách: \").split())\nif (a * b * c <= 0) or (a + b <= c) or (a + c <= b) or (b + c <= a):\n    print(\"Không phải tam giac\")\nelse:\n    if a == b == c:\n        print(\"Tam giác đều\")\n    elif (a == b) or (a == c) or (b == c) and ((a ** 2 + b ** 2 != c ** 2) and (b ** 2 + c ** 2 != a ** 2) and (a ** 2 + c ** 2 != b ** 2)):\n        print(\"Tam giác cân\")\n    elif (a ** 2 + b ** 2 == c ** 2) or (b ** 2 + c ** 2 == a ** 2) or (a ** 2 + c ** 2 == b ** 2) and (a != b) and (a != c) and (b != c) :\n        print(\"Tam giác vuông\")\n    elif (a == b) or (a == c) or (b == c) and ((a ** 2 + b ** 2 == c ** 2) or (b ** 2 + c ** 2 == a ** 2) or (a ** 2 + c ** 2 == b ** 2)):\n        print(\"Tam giác vuông cân\")\n    else: \n        print(\"Tam giác thường\")",
      "metadata": {
        "trusted": true
      },
      "outputs": [
        {
          "output_type": "stream",
          "name": "stdin",
          "text": "Nhập 3 số bất kì ngăn cách nhau bởi 1 dấu cách:  4 5 6\n"
        },
        {
          "name": "stdout",
          "output_type": "stream",
          "text": "Tam giác thường\n"
        }
      ],
      "execution_count": 55
    },
    {
      "id": "90f0bc28-bab8-4a57-842d-a4c6559d2315",
      "cell_type": "code",
      "source": "#W3A12\nn = int(input())\nif n % 400 == 0 or (n % 4 == 0 and n % 100 != 0):\n    print(\"Yes\")\nelse:\n    print(\"No\")",
      "metadata": {
        "trusted": true
      },
      "outputs": [
        {
          "output_type": "stream",
          "name": "stdin",
          "text": " 2100\n"
        },
        {
          "name": "stdout",
          "output_type": "stream",
          "text": "No\n"
        }
      ],
      "execution_count": 58
    },
    {
      "id": "2515880f-3e62-4705-bc21-cdb01807495a",
      "cell_type": "code",
      "source": "#W3A13\na, b = map(float, input(\"Nhập hệ số a, b của phương trình ax + b = 0(ngăn cách nhau bởi 1 dấu cách): \").split())\nif a == 0:\n    if b == 0:\n        print(\"Vô số nghiệm\")\n    else:\n        print(\"Vô nghiệm\")\nelse:\n    kq = -b / a\n    if kq == 0:\n        print(\"x =\", (0))\n    else:\n        print(\"x =\", (kq))",
      "metadata": {
        "trusted": true
      },
      "outputs": [
        {
          "output_type": "stream",
          "name": "stdin",
          "text": "Nhập hệ số a, b của phương trình ax + b = 0(ngăn cách nhau bởi 1 dấu cách):  5 3\n"
        },
        {
          "name": "stdout",
          "output_type": "stream",
          "text": "x = -0.6\n"
        }
      ],
      "execution_count": 61
    },
    {
      "id": "025d7408-8fb0-4dd5-8b5c-daa7d0191c31",
      "cell_type": "code",
      "source": "#W3A14\ndiem = float(input(\"Nhập điểm trung bình của học sinh:\"))\nif diem >= 8 and diem <= 10:\n    print(\"Giỏi\")\nelif diem >= 6.5 and diem < 8:\n    print(\"Khá\")\nelif diem >= 5 and diem < 6.5:\n    print(\"Trung bình\")\nelif diem < 5 and diem >= 0:\n    print(\"Yếu\")\nelse:\n    print(\"Điểm chỉ trong khoảng từ 0 đến 10\")",
      "metadata": {
        "trusted": true
      },
      "outputs": [
        {
          "output_type": "stream",
          "name": "stdin",
          "text": "Nhập điểm trung bình của học sinh: 9\n"
        },
        {
          "name": "stdout",
          "output_type": "stream",
          "text": "Giỏi\n"
        }
      ],
      "execution_count": 65
    },
    {
      "id": "42991268-e366-4ace-bb4b-5f44638e4f5e",
      "cell_type": "code",
      "source": "#W3A15\nx = float(input(\"Nhập 1 số thực bất kì\"))\nif x >= 0:\n    if x == int(x):\n        tron_len = x\n        tron_xuong = x\n    else:\n        tron_len = int(x) + 1\n        tron_xuong = int(x)\n    if x - int(x) >= 0.5:\n        nguyen = int(x) + 1\n    else:\n        nguyen = int(x)\n    print(tron_len, tron_xuong, nguyen)\nelse:\n    if x == int(x):\n        tron_len = int(x)\n        tron_xuong = int(x)\n        nguyen = x\n    else:\n        tron_xuong = x // 1\n        tron_len = tron_xuong + 1\n        nguyen = int(x - 1 / 2)\n    print(tron_len, tron_xuong, nguyen)\n        ",
      "metadata": {
        "trusted": true
      },
      "outputs": [
        {
          "output_type": "stream",
          "name": "stdin",
          "text": "Nhập 1 số thực bất kì -5\n"
        },
        {
          "name": "stdout",
          "output_type": "stream",
          "text": "-5 -5 -5.0\n"
        }
      ],
      "execution_count": 74
    },
    {
      "id": "b9c009da-d230-4a26-9483-9ec316c9a44c",
      "cell_type": "code",
      "source": "#W3A16\na, b, c, d = map(float, input().split())\nif a == 0:\n    if b == c == d == 0:\n        print(\"Yes\")\n    else:\n        print(\"No\")\nelse:\n    q = b / a\n    if q == int(q):\n        if c == q * b and d == c * q:\n            print(\"Yes\")\n        else:\n            print(\"No\")\n    else:\n        print(\"No\")",
      "metadata": {
        "trusted": true
      },
      "outputs": [
        {
          "output_type": "stream",
          "name": "stdin",
          "text": " 3 6 9 12\n"
        },
        {
          "name": "stdout",
          "output_type": "stream",
          "text": "No\n"
        }
      ],
      "execution_count": 79
    },
    {
      "id": "db6ee1e2-c532-4057-a1e8-86e338404b31",
      "cell_type": "code",
      "source": "",
      "metadata": {
        "trusted": true
      },
      "outputs": [],
      "execution_count": null
    }
  ]
}