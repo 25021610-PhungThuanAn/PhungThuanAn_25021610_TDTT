{
  "metadata": {
    "kernelspec": {
      "name": "python",
      "display_name": "Python (Pyodide)",
      "language": "python"
    },
    "language_info": {
      "codemirror_mode": {
        "name": "python",
        "version": 3
      },
      "file_extension": ".py",
      "mimetype": "text/x-python",
      "name": "python",
      "nbconvert_exporter": "python",
      "pygments_lexer": "ipython3",
      "version": "3.8"
    },
    "widgets": {
      "application/vnd.jupyter.widget-state+json": {
        "version_major": 2,
        "version_minor": 0,
        "state": {}
      }
    }
  },
  "nbformat_minor": 5,
  "nbformat": 4,
  "cells": [
    {
      "id": "8fd5b67e-7c55-488d-bb57-471a9705effd",
      "cell_type": "code",
      "source": "# Bài 1\nfor i in range(1, 100, 2):\n    print(i)",
      "metadata": {
        "trusted": true
      },
      "outputs": [
        {
          "name": "stdout",
          "output_type": "stream",
          "text": "1\n3\n5\n7\n9\n11\n13\n15\n17\n19\n21\n23\n25\n27\n29\n31\n33\n35\n37\n39\n41\n43\n45\n47\n49\n51\n53\n55\n57\n59\n61\n63\n65\n67\n69\n71\n73\n75\n77\n79\n81\n83\n85\n87\n89\n91\n93\n95\n97\n99\n"
        }
      ],
      "execution_count": 1
    },
    {
      "id": "dc6335f3-212a-4d68-a26f-ca1ad00c518c",
      "cell_type": "code",
      "source": "# Bài 2\nfor i in range(100):\n    if i % 6 == 0:\n        print(i)",
      "metadata": {
        "trusted": true
      },
      "outputs": [
        {
          "name": "stdout",
          "output_type": "stream",
          "text": "0\n6\n12\n18\n24\n30\n36\n42\n48\n54\n60\n66\n72\n78\n84\n90\n96\n"
        }
      ],
      "execution_count": 2
    },
    {
      "id": "46980bda-6b27-4b62-b214-0c5f153bb2d4",
      "cell_type": "code",
      "source": "# Bải 3\nn = int(input(\"Bảng cửu chương của:\"))\nif n > 0:\n    for i in range (1, 11):\n        print(i * n)",
      "metadata": {
        "trusted": true
      },
      "outputs": [
        {
          "output_type": "stream",
          "name": "stdin",
          "text": "Bảng cửu chương của: 6\n"
        },
        {
          "name": "stdout",
          "output_type": "stream",
          "text": "6\n12\n18\n24\n30\n36\n42\n48\n54\n60\n"
        }
      ],
      "execution_count": 6
    },
    {
      "id": "5c2fd95b-63ea-4785-aae2-f081a15349ce",
      "cell_type": "code",
      "source": "# Bài 4\n",
      "metadata": {
        "trusted": true
      },
      "outputs": [],
      "execution_count": 7
    },
    {
      "id": "3850ae97-b4a3-4f12-ad0a-581c86a5ac39",
      "cell_type": "code",
      "source": "# Bài 5\nn = int(input(\"Nhập 1 số nguyên n:\"))\ntong = 0\nfor i in range(1, n + 1):\n    tong += i\nprint(tong)",
      "metadata": {
        "trusted": true
      },
      "outputs": [
        {
          "output_type": "stream",
          "name": "stdin",
          "text": "Nhập 1 số nguyên n: 4\n"
        },
        {
          "name": "stdout",
          "output_type": "stream",
          "text": "10\n"
        }
      ],
      "execution_count": 8
    },
    {
      "id": "f78c7151-c496-4661-93df-fadbcec9e9a3",
      "cell_type": "code",
      "source": "# Bài 6\na = int(input())\nfor i in range(1, a + 1):\n    if a % i == 0:\n        print(i)",
      "metadata": {
        "trusted": true
      },
      "outputs": [
        {
          "output_type": "stream",
          "name": "stdin",
          "text": " 4\n"
        },
        {
          "name": "stdout",
          "output_type": "stream",
          "text": "1\n2\n4\n"
        }
      ],
      "execution_count": 10
    },
    {
      "id": "bdff36f0-37ef-4564-afc2-eec2c943cd2f",
      "cell_type": "code",
      "source": "# Bài 7\na = int(input())\ncount = 0\nfor i in range(1, a + 1):\n    if a % i == 0:\n        count += 1\nprint(count)",
      "metadata": {
        "trusted": true
      },
      "outputs": [
        {
          "output_type": "stream",
          "name": "stdin",
          "text": " 5\n"
        },
        {
          "name": "stdout",
          "output_type": "stream",
          "text": "2\n"
        }
      ],
      "execution_count": 11
    },
    {
      "id": "0457a77f-c371-4f4d-8a48-72d04eb7d228",
      "cell_type": "code",
      "source": "# Bài 8\na, b = map(int, input(\"Nhập 2 số a, b cách nhau bởi 1 dấu cách\").split())\nif a > b:\n    for i in range (1, a + 1):\n        if a % i == 0 and b % i == 0:\n            print(i)\nelse:\n    for i in range (1, b + 1):\n        if a % i == 0 and b % i == 0:\n            print(i)",
      "metadata": {
        "trusted": true
      },
      "outputs": [
        {
          "output_type": "stream",
          "name": "stdin",
          "text": "Nhập 2 số a, b cách nhau bởi 1 dấu cách 4 9\n"
        },
        {
          "name": "stdout",
          "output_type": "stream",
          "text": "1\n"
        }
      ],
      "execution_count": 12
    },
    {
      "id": "555f5402-4b04-4c0e-8ec8-af6c8cf5c779",
      "cell_type": "code",
      "source": "# Bài 9\nfrom math import sqrt\nfrom math import sqrt\na = int(input())\ncan_a = sqrt(a)\nfor i in range(a + 1):\n    if can_a == i:\n        print(True)\nif isclose(can_a, int(can_a)) == False:\n    print(False)",
      "metadata": {
        "trusted": true
      },
      "outputs": [
        {
          "output_type": "stream",
          "name": "stdin",
          "text": " 9\n"
        },
        {
          "name": "stdout",
          "output_type": "stream",
          "text": "True\n"
        }
      ],
      "execution_count": 21
    },
    {
      "id": "9cbe4cc5-1515-46d0-97ea-9ff04b478258",
      "cell_type": "code",
      "source": "# Bài 10\na = int(input())\ntong = 0\nfor i in range(1, a):\n    if a % i == 0:\n        tong += i\nif tong == a:\n    print(True)\nelse:\n    print(False)",
      "metadata": {
        "trusted": true
      },
      "outputs": [
        {
          "output_type": "stream",
          "name": "stdin",
          "text": " 6\n"
        },
        {
          "name": "stdout",
          "output_type": "stream",
          "text": "True\n"
        }
      ],
      "execution_count": 28
    },
    {
      "id": "1dd48234-1bb5-4907-84a5-52f851c06c95",
      "cell_type": "code",
      "source": "# Bài 11\nwhile True:\n    a = int(input(\"Nhập 1 số nguyên dương từ bàn phím\"))\n    if a == int(abs(a)):\n        print(\"Bạn nhập đúng quy tắc rồi\")\n        break",
      "metadata": {
        "trusted": true
      },
      "outputs": [
        {
          "output_type": "stream",
          "name": "stdin",
          "text": "Nhập 1 số nguyên dương từ bàn phím -5\nNhập 1 số nguyên dương từ bàn phím -2\nNhập 1 số nguyên dương từ bàn phím 6\n"
        },
        {
          "name": "stdout",
          "output_type": "stream",
          "text": "Bạn nhập đúng quy tắc rồi\n"
        }
      ],
      "execution_count": 33
    },
    {
      "id": "6e8be5ef-d47b-484a-98b5-9e3c518e0e06",
      "cell_type": "code",
      "source": "# Bài 12\nn = int(input())\ntong = 0\nif n > 0:\n    for i in range(n + 1):\n        if tong + i >= n:\n            tong = tong\n            break\n        else:\n            tong += i\nprint(i - 1)\n\n# Cách 2\nn = int(input())\ntong = 0\ni = 0\nwhile tong < n:\n    k = i\n    i += 1\n    tong += i\n\nprint(k)",
      "metadata": {
        "trusted": true
      },
      "outputs": [],
      "execution_count": null
    },
    {
      "id": "e3c3f0ac-d2b7-4941-afdd-8af4898af83f",
      "cell_type": "code",
      "source": "# Bài 13\nA = int(input(\"Nhập số A\"))\nif A > 0:\n    n = 1\n    tong = 0\n    while tong <= A:\n        tong += 1/n\n        n += 1\nprint(n-1)",
      "metadata": {
        "trusted": true
      },
      "outputs": [
        {
          "output_type": "stream",
          "name": "stdin",
          "text": "Nhập số A 1\n"
        },
        {
          "name": "stdout",
          "output_type": "stream",
          "text": "2\n"
        }
      ],
      "execution_count": 5
    },
    {
      "id": "e7840828-ea61-48e1-b120-2ea28f48b9f4",
      "cell_type": "code",
      "source": "# Bài 14\nmax_n = None\nmin_n = None\nwhile True:\n    n = int(input(\"Nhập 1 số nguyên n:\"))\n    if n == -1:\n        break\n    if max_n is None:\n        max_n = n\n        min_n = n\n    else:\n        if n - max_n > 0:\n            max_n = n\n        if min_n - n > 0:\n            min_n = n\nprint(max_n, min_n)",
      "metadata": {
        "trusted": true
      },
      "outputs": [
        {
          "output_type": "stream",
          "name": "stdin",
          "text": "Nhập 1 số nguyên n: 1\nNhập 1 số nguyên n: 4\nNhập 1 số nguyên n: 5\nNhập 1 số nguyên n: -1\n"
        },
        {
          "name": "stdout",
          "output_type": "stream",
          "text": "5 1\n"
        }
      ],
      "execution_count": 16
    },
    {
      "id": "b0e7d960-4abd-4f45-81a7-314c55463be0",
      "cell_type": "code",
      "source": "# Bài 15\ntry:\n    n = int(input(\"Nhập 1 số nguyên dương n\"))\n    temp = n\n    count = 0\n    if n > 0: \n        while temp > 0:\n            count += 1\n            temp //= 10\n        print(count)\n    else:\n        print(\"Bạn vừa nhập số âm\")\nexcept ValueError:\n    print(\"Bạn nhập chưa đúng\")",
      "metadata": {
        "trusted": true
      },
      "outputs": [
        {
          "output_type": "stream",
          "name": "stdin",
          "text": "Nhập 1 số nguyên dương n 131313\n"
        },
        {
          "name": "stdout",
          "output_type": "stream",
          "text": "6\n"
        }
      ],
      "execution_count": 37
    },
    {
      "id": "bd367008-1212-4fc4-8a9e-566e18d334aa",
      "cell_type": "code",
      "source": "# Bài 16\ntry:\n    n = int(input(\"Nhập 1 số nguyên dương n\"))\n    temp = n\n    so_le = 0\n    so_chan = 0\n    if n > 0:\n        while temp > 0:\n            so = temp % 10\n            temp //= 10\n            if so % 2 == 0:\n                so_chan += 1\n            else:\n                so_le += 1\n        print(f'{n} có {so_chan} chữ số chẵn')\n        print(f'{n} có {so_le} chữ số lẻ')\n    else:\n        print('Bạn nhập số âm rồi')\nexcept ValueError:\n    print('Nhập số nguyên dương')\n",
      "metadata": {
        "trusted": true
      },
      "outputs": [
        {
          "output_type": "stream",
          "name": "stdin",
          "text": "Nhập 1 số nguyên dương n a\n"
        },
        {
          "name": "stdout",
          "output_type": "stream",
          "text": "Nhập số nguyên dương\n"
        }
      ],
      "execution_count": 28
    },
    {
      "id": "a13d83e7-9889-4406-a9f4-05c7d37ae182",
      "cell_type": "code",
      "source": "# Bài 17\ntry:\n    n = int(input(\"Nhập 1 số nguyên dương n:\"))\n    temp = n\n    tong = 0\n    if n > 0:\n        while temp > 0:\n            so = temp % 10\n            temp //= 10\n            tong += so\n        print(tong)\n    else:\n        print(\"Bạn nhập sai rồi\")\nexcept ValueError:\n    print(\"Nhập số nguyên dương bạn ơi\")",
      "metadata": {
        "trusted": true
      },
      "outputs": [
        {
          "output_type": "stream",
          "name": "stdin",
          "text": "Nhập 1 số nguyên dương n: 1313\n"
        },
        {
          "name": "stdout",
          "output_type": "stream",
          "text": "8\n"
        }
      ],
      "execution_count": 32
    },
    {
      "id": "94753227-39fd-4962-b336-209cee6863e8",
      "cell_type": "code",
      "source": "# Bài 18\ntry:\n    n = int(input(\"Nhập 1 số nguyên dương n:\"))\n    temp = n\n    flag = True\n    if n > 0:\n        if n == 1:\n            flag = True\n        while temp % 3 == 0:\n            temp = temp / 3\n        if temp != 1:\n            flag = False\n        \n        if flag is True:\n            print(f'{n} là 1 số dạng 3^k')\n        else:\n            print(f'{n} không phải là 1 số dạng 3^k')\n    else:\n        print(\"Bạn nhập không phải số nguyên dương\")\nexcept ValueError:\n    print(\"Bạn nhập sai rồi\")",
      "metadata": {
        "trusted": true
      },
      "outputs": [
        {
          "output_type": "stream",
          "name": "stdin",
          "text": "Nhập 1 số nguyên dương n: 12314\n"
        },
        {
          "name": "stdout",
          "output_type": "stream",
          "text": "12314 không phải là 1 số dạng 3^k\n"
        }
      ],
      "execution_count": 17
    },
    {
      "id": "feb26dd2-6cee-4222-b800-efe80205f04d",
      "cell_type": "code",
      "source": "# Bài 19\n# Cách 1\ntry:\n    A = int(input(\"Nhập 1 số nguyên dương A:\"))\n    if A > 0:\n        if A == 1:\n            print(1)\n        else:\n            n = 1\n            n_truoc = 1\n            n_sau = 2\n            while n_sau < A:\n                n_sau = n_sau + n\n                n = n_sau - n\n                n_truoc = n - n_truoc\n            print(n)\n    else:\n        print(\"Bạn nhập chưa đúng\")\nexcept ValueError:\n    print(\"Bạn nhập chưa đúng\")\n\n# Cách 2\ntry:\n    A = int(input(\"Nhập 1 số nguyên dương A:\"))\n    if A > 0:\n        if A == 1:\n            print(1)\n        else:\n            n = 1\n            n_sau = 1\n            while n_sau < A:\n                n, n_sau = n_sau, n + n_sau\n            print(n)\n    else:\n        print(\"Bạn nhập chưa đúng\")\nexcept ValueError:\n    print(\"Bạn nhập chưa đúng\")",
      "metadata": {
        "trusted": true
      },
      "outputs": [
        {
          "output_type": "stream",
          "name": "stdin",
          "text": "Nhập 1 số nguyên dương A: 5\n"
        },
        {
          "name": "stdout",
          "output_type": "stream",
          "text": "3\n"
        },
        {
          "output_type": "stream",
          "name": "stdin",
          "text": "Nhập 1 số nguyên dương A: 5\n"
        },
        {
          "name": "stdout",
          "output_type": "stream",
          "text": "3\n"
        }
      ],
      "execution_count": 33
    },
    {
      "id": "d6a525e0-4214-4243-aab4-f5c119a26f90",
      "cell_type": "code",
      "source": "# Bài 20\ntry:\n    n = int(input(\"Nhập 1 số nguyên dương n:\"))\n    if n > 0:\n        temp = n\n        count = 0\n        while temp > 0:\n            so = temp % 10\n            temp //= 10\n            if so in [2, 3, 5, 7]:\n                count += 1\n        print(count)\n    else:\n        print(\"Bạn nhập chưa đúng\")\nexcept ValueError:\n    print(\"Nhập số nguyên dương\")",
      "metadata": {
        "trusted": true
      },
      "outputs": [
        {
          "output_type": "stream",
          "name": "stdin",
          "text": "Nhập 1 số nguyên dương n: 123456789\n"
        },
        {
          "name": "stdout",
          "output_type": "stream",
          "text": "4\n"
        }
      ],
      "execution_count": 3
    },
    {
      "id": "6fa4d07c-27bf-4ba9-b79e-42011808e6a4",
      "cell_type": "code",
      "source": "",
      "metadata": {
        "trusted": true
      },
      "outputs": [],
      "execution_count": null
    }
  ]
}