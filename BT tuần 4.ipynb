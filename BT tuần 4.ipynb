{
  "metadata": {
    "kernelspec": {
      "name": "python",
      "display_name": "Python (Pyodide)",
      "language": "python"
    },
    "language_info": {
      "codemirror_mode": {
        "name": "python",
        "version": 3
      },
      "file_extension": ".py",
      "mimetype": "text/x-python",
      "name": "python",
      "nbconvert_exporter": "python",
      "pygments_lexer": "ipython3",
      "version": "3.8"
    },
    "widgets": {
      "application/vnd.jupyter.widget-state+json": {
        "version_major": 2,
        "version_minor": 0,
        "state": {}
      }
    }
  },
  "nbformat_minor": 5,
  "nbformat": 4,
  "cells": [
    {
      "id": "64d7a477-76b1-4722-b9ad-cbb079675030",
      "cell_type": "code",
      "source": "# W4A1\ntong = 0\ntry:\n    n = int(input())\n    if 0 < n <= 1000:\n        for i in range(n):\n            tong += i\n    print(tong)\nexcept ValueError:\n    print(\"Ban knhap khong dung roi\")",
      "metadata": {
        "trusted": true
      },
      "outputs": [
        {
          "output_type": "stream",
          "name": "stdin",
          "text": " -6\n"
        },
        {
          "name": "stdout",
          "output_type": "stream",
          "text": "0\n"
        }
      ],
      "execution_count": 3
    },
    {
      "id": "54f75cd8-44a7-4e99-a8a7-d5f983720b71",
      "cell_type": "code",
      "source": "#W4A2\nfrom math import sqrt\nfor _ in range(10000):\n    n = int(input('Nhap 1 so nguyen duong bat ki'))\n    if n > 0 :\n        break\n    else:\n        print('Nhap lai di ban')\ncount = 0\nfor i in range(1, int(sqrt(n) + 1)):\n    if n % i == 0 and n > 1:\n        count += 1\nif count == 1:\n    print(n, \"la so nguyen to\")\nelse:\n    print(n, \"khong phai so nguyen to\")",
      "metadata": {
        "trusted": true
      },
      "outputs": [
        {
          "output_type": "stream",
          "name": "stdin",
          "text": "Nhap 1 so nguyen duong bat ki 1\n"
        },
        {
          "name": "stdout",
          "output_type": "stream",
          "text": "1 khong phai so nguyen to\n"
        }
      ],
      "execution_count": 12
    },
    {
      "id": "59fc8c63-9ce6-4692-8bbf-b5d4687e3bc4",
      "cell_type": "code",
      "source": "#w4A3\nn = int(input())\ngiai_thua = 1\nif 0 < n < 100:\n    for i in range(1, n + 1):\n        giai_thua *= i\nprint(giai_thua)",
      "metadata": {
        "trusted": true
      },
      "outputs": [
        {
          "output_type": "stream",
          "name": "stdin",
          "text": " 4\n"
        },
        {
          "name": "stdout",
          "output_type": "stream",
          "text": "24\n"
        }
      ],
      "execution_count": 2
    },
    {
      "id": "0ba03d38-d582-4f2e-9085-ede0e69b9828",
      "cell_type": "code",
      "source": "#W4A4\nn = int(input())\ntemp = abs(n)\ncount = 0\nwhile temp  > 0:\n    count += 1\n    temp //= 10\nprint(count)",
      "metadata": {
        "trusted": true
      },
      "outputs": [
        {
          "output_type": "stream",
          "name": "stdin",
          "text": " 12345\n"
        },
        {
          "name": "stdout",
          "output_type": "stream",
          "text": "5\n"
        }
      ],
      "execution_count": 4
    },
    {
      "id": "3b582a1c-f7d7-4f88-ad07-6adbab652d9f",
      "cell_type": "code",
      "source": "#W4A5\nn = int(input())\nfor _ in range(n):\n    i = int(input())\n    if i == 42:\n        print(\"I′ve found the meaning of life!\")\n        break\nprint(\"It′s a joke!\")",
      "metadata": {
        "trusted": true
      },
      "outputs": [
        {
          "output_type": "stream",
          "name": "stdin",
          "text": " 3\n 4\n 4\n 4\n"
        },
        {
          "name": "stdout",
          "output_type": "stream",
          "text": "It′s a joke!\n"
        }
      ],
      "execution_count": 7
    },
    {
      "id": "4a502868-7d13-41da-95d8-3c3328ed292d",
      "cell_type": "code",
      "source": "#W4A6\ntry:\n    a, b = map(int, input(\"Nhập 2 đầu mút của đoạn a, b:\").split())\n    if a < b:\n        from math import sqrt\n        tong = 0\n        for i in range(a, b + 1):\n            if i <= 1:\n                pass\n            else:\n                snt = True\n                for j in range(2, int(sqrt(i)) + 1):\n                    if i % j == 0:\n                        snt = False\n                        break\n                if snt is True:\n                    tong += i\n        print(tong)\n    else:\n        print(\"a phải < b\")\n\nexcept ValueError:\n    print(\"Bạn nhập sai rồi\")",
      "metadata": {
        "trusted": true
      },
      "outputs": [
        {
          "output_type": "stream",
          "name": "stdin",
          "text": "Nhập 2 đầu mút của đoạn a, b: 2 14\n"
        },
        {
          "name": "stdout",
          "output_type": "stream",
          "text": "41\n"
        }
      ],
      "execution_count": 29
    },
    {
      "id": "b354df8b-e0e4-4e79-9f0a-fa6f36d979fa",
      "cell_type": "code",
      "source": "#W4A7\nfrom math import sqrt\ntry:\n    n = int(input(\"Nhập số nguyên dương n ≥ 2:\"))\n    if n >= 2:\n        uoc = 2\n        for i in range(2, n + 1):\n            flag = True\n            for j in range(2, int(sqrt(i)) + 1):\n                if i % j == 0:\n                    flag = False\n                    break\n            if flag is True and n % i ==0:\n                uoc = i\n        print(\"Ước số nguyên tố lớn nhất của\", n, \"là\", uoc)\n    else:\n        print(\"n ≥ 2\")\nexcept ValueError:\n    print(\"Bạn nhập chưa phải rồi\")\n\nfrom math import sqrt\ntry:\n    n = int(input(\"Nhập số nguyên dương n ≥ 2:\"))\n    if n >= 2:\n        uoc = 2\n        for i in range(n, 1, -1):\n            flag = True\n            for j in range(2, int(sqrt(i)) + 1):\n                if i % j == 0:\n                    flag = False\n            if flag is True and n % i == 0:\n                uoc = i\n                break\n        print(\"Ước số nguyên tố lớn nhất của\", n, \"là\", uoc)\n    else:\n        print(\"n ≥ 2\")\nexcept ValueError:\n    print(\"Bạn nhập chưa phải rồi\")",
      "metadata": {
        "trusted": true
      },
      "outputs": [
        {
          "output_type": "stream",
          "name": "stdin",
          "text": "Nhập số nguyên dương n ≥ 2: 9\n"
        },
        {
          "name": "stdout",
          "output_type": "stream",
          "text": "Ước số nguyên tố lớn nhất của 9 là 3\n"
        },
        {
          "output_type": "stream",
          "name": "stdin",
          "text": "Nhập số nguyên dương n ≥ 2: 9\n"
        },
        {
          "name": "stdout",
          "output_type": "stream",
          "text": "Ước số nguyên tố lớn nhất của 9 là 3\n"
        }
      ],
      "execution_count": 7
    },
    {
      "id": "abcf427b-d073-4b3c-a938-ffeb0eb2d1c5",
      "cell_type": "code",
      "source": "#W4A8\nn = int(input(\"Nhập 1 số nguyên dương n:\"))\ntemp = n\nchuoi_temp = str(temp)\nchuoi_nguoc = chuoi_temp[::-1]\nreverse_temp = int(chuoi_nguoc)\ncount = 0\nwhile temp != reverse_temp:\n    temp += reverse_temp\n    chuoi_temp = str(temp)\n    chuoi_nguoc = chuoi_temp[::-1]\n    reverse_temp = int(chuoi_nguoc)\n    count += 1\nprint(count)\nprint(reverse_temp)",
      "metadata": {
        "trusted": true
      },
      "outputs": [
        {
          "output_type": "stream",
          "name": "stdin",
          "text": "Nhập 1 số nguyên dương n: 48742\n"
        },
        {
          "name": "stdout",
          "output_type": "stream",
          "text": "3\n496694\n"
        }
      ],
      "execution_count": 27
    },
    {
      "id": "c7277a02-780c-4728-b796-56e34b616a20",
      "cell_type": "code",
      "source": "#W4A9\nn = int(input(\"Nhập 1 số nguyên dương n:\"))\ndef doi_1_khac_nhau(n):\n    temp = n\n    chu_so = []\n    while temp > 0:\n        so = temp % 10\n        chu_so.append(so)\n        temp //= 10\n    for i in chu_so:\n        count = 0\n        for j in chu_so:\n            if i == j:\n                count += 1\n        if count > 1:\n            return False\n    return True\n    \nchinh_phuong = []\nfrom math import sqrt, isclose\nfor i in range (n + 1):\n    if isclose(sqrt(i), int(sqrt(i))):\n        if doi_1_khac_nhau(i) is True:\n            chinh_phuong.append(i)\nchinh_phuong.sort()\n\nif len(chinh_phuong) > 0:\n    print(*chinh_phuong)\nelse:\n    print(\"no number\")\n",
      "metadata": {
        "trusted": true
      },
      "outputs": [
        {
          "output_type": "stream",
          "name": "stdin",
          "text": "Nhập 1 số nguyên dương n: 14414\n"
        },
        {
          "name": "stdout",
          "output_type": "stream",
          "text": "0 1 4 9 16 25 36 49 64 81 169 196 256 289 324 361 529 576 625 729 784 841 961 1024 1089 1296 1369 1764 1849 1936 2304 2401 2601 2704 2809 2916 3025 3249 3481 3721 4096 4356 4761 5041 5184 5329 5476 6084 6241 6724 7056 7396 7569 7921 8649 9025 9216 9604 9801 12769 13456 13689 13924\n"
        }
      ],
      "execution_count": 27
    },
    {
      "id": "1c48a2a8-a7a9-4109-b328-1173e9cd8aae",
      "cell_type": "code",
      "source": "#W4A10\nn = int(input(\"Nhập 1 số nguyên dương n:\"))\ndo_dai = []\n\ndef L_Collatz(i):\n    count = 1\n    j = i\n    while i != 1:\n        if i % 2 == 0:\n            i = i / 2\n        else:\n            i = 3 * i + 1\n        count += 1\n    return [j, count]\n    \nfor i in range(1, n + 1):\n    do_dai_day = L_Collatz(i)\n    do_dai.append(do_dai_day)\n    \nday_dai_nhat = do_dai[0]\n\nfor i in range(1, n):\n    if do_dai[i][1] > day_dai_nhat[1]:\n        day_dai_nhat = do_dai[i]\nprint(day_dai_nhat)",
      "metadata": {
        "trusted": true
      },
      "outputs": [
        {
          "output_type": "stream",
          "name": "stdin",
          "text": "Nhập 1 số nguyên dương n: 12131\n"
        },
        {
          "name": "stdout",
          "output_type": "stream",
          "text": "[10971, 268]\n"
        }
      ],
      "execution_count": 41
    },
    {
      "id": "a5411301-cc05-483c-96e9-560271868aa5",
      "cell_type": "code",
      "source": "#W4A11\nn = int(input(\"Nhập 1 số nguyên dương n < 1000000:\"))\nif 0 < n < 10**6:\n    count = 0\n    uoc_chan = []\n    for i in range(2, n + 1, 2):\n        if n % i == 0:\n            count += 1\n    print(count)",
      "metadata": {
        "trusted": true
      },
      "outputs": [
        {
          "output_type": "stream",
          "name": "stdin",
          "text": "Nhập 1 số nguyên dương n < 1000000: 1234\n"
        },
        {
          "name": "stdout",
          "output_type": "stream",
          "text": "2\n"
        }
      ],
      "execution_count": 34
    },
    {
      "id": "1ab3e7bb-126d-434b-950b-8e033affbcee",
      "cell_type": "code",
      "source": "#W4A12\nX = int(input(\"Nhập số tiền người đó đã gửi vào ngân hàng( đơn vị đồng ):\"))\nlai = 7 / 100\nn = int(input(\"Nhập số tháng người đó đã gửi tiền\"))\nprint(f'Số tiền người đó nhận được sau {n} tháng là {(X * (1 + lai) ** n):.0f}')",
      "metadata": {
        "trusted": true
      },
      "outputs": [
        {
          "output_type": "stream",
          "name": "stdin",
          "text": "Nhập số tiền người đó đã gửi vào ngân hàng( đơn vị đồng ): 123\nNhập số tháng người đó đã gửi tiền 1\n"
        },
        {
          "name": "stdout",
          "output_type": "stream",
          "text": "Số tiền người đó nhận được sau 1 tháng là 132\n"
        }
      ],
      "execution_count": 44
    },
    {
      "id": "469e4fa3-256b-47e6-b5fd-a75a06df4a8c",
      "cell_type": "code",
      "source": "#W4A13\nm = int(input(\"Nhập số nguyên dương m:\"))\nn = int(input(\"Nhập số nguyên dương n:\"))\ntong_uoc_m = 0\ntong_uoc_n = 0\nfor i in range (1, m):\n    if m % i == 0:\n        tong_uoc_m += i\nfor j in range (1, n):\n    if n % j == 0:\n        tong_uoc_n += j\nif tong_uoc_m == n and tong_uoc_n == m:\n    print(\"true\")\nelse:\n    print(\"false\")",
      "metadata": {
        "trusted": true
      },
      "outputs": [
        {
          "output_type": "stream",
          "name": "stdin",
          "text": "Nhập số nguyên dương m: 12\nNhập số nguyên dương n: 14\n"
        },
        {
          "name": "stdout",
          "output_type": "stream",
          "text": "false\n"
        }
      ],
      "execution_count": 8
    },
    {
      "id": "f2648cbe-bb71-4d18-a54a-c7c5761094f1",
      "cell_type": "code",
      "source": "#W4A14\nm = int(input(\"Nhập số nguyên dương m:\"))\nn = int(input(\"Nhập số nguyên dương n:\"))\nif m > 0 and n > 0:\n    ucln = 1\n    if m > n:\n        for i in range(n + 1, 1, -1):\n            if m % i == 0 and n % i == 0:\n                ucln = i\n                break\n    else:\n        for i in range(m + 1, 1, -1):\n            if m % i == 0 and n % i == 0:\n                ucln = i\n                break\nprint(ucln)",
      "metadata": {
        "trusted": true
      },
      "outputs": [
        {
          "output_type": "stream",
          "name": "stdin",
          "text": "Nhập số nguyên dương m: 12\nNhập số nguyên dương n: 3\n"
        },
        {
          "name": "stdout",
          "output_type": "stream",
          "text": "3\n"
        }
      ],
      "execution_count": 9
    },
    {
      "id": "61dbbdcd-a6f9-46ce-aff3-23ffb2526878",
      "cell_type": "code",
      "source": "#W4A15\na = int(input(\"Nhập tổng số gà và chó:\"))\nb = int(input(\"Nhập tổng số chân:\"))\ndog = (b - 2 * a) / 2\nchicken = a - dog\nif dog == int(dog) and dog > 0 and chicken > 0:\n    print(f'Số con chó là: {int(dog)}')\n    print(f'Số con gà là: {int(chicken)}')\nelse:\n    print(\"invalid\")",
      "metadata": {
        "trusted": true
      },
      "outputs": [
        {
          "output_type": "stream",
          "name": "stdin",
          "text": "Nhập tổng số gà và chó: 36\nNhập tổng số chân: 100\n"
        },
        {
          "name": "stdout",
          "output_type": "stream",
          "text": "Số con chó là: 14\nSố con gà là: 22\n"
        }
      ],
      "execution_count": 18
    }
  ]
}