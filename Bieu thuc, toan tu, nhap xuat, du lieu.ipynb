{
  "metadata": {
    "kernelspec": {
      "name": "python",
      "display_name": "Python (Pyodide)",
      "language": "python"
    },
    "language_info": {
      "codemirror_mode": {
        "name": "python",
        "version": 3
      },
      "file_extension": ".py",
      "mimetype": "text/x-python",
      "name": "python",
      "nbconvert_exporter": "python",
      "pygments_lexer": "ipython3",
      "version": "3.8"
    }
  },
  "nbformat_minor": 5,
  "nbformat": 4,
  "cells": [
    {
      "id": "46990fe4-fff6-4772-ba03-40096d97788f",
      "cell_type": "code",
      "source": "#W2A2\nten = input() # bien ten nhan gia tri tu nguoi nhap\nprint(\"Hello\", ten.title()) # in ra man hinh loi chao ",
      "metadata": {
        "trusted": true
      },
      "outputs": [
        {
          "output_type": "stream",
          "name": "stdin",
          "text": " hieu\n"
        },
        {
          "name": "stdout",
          "output_type": "stream",
          "text": "Hello Hieu\n"
        }
      ],
      "execution_count": 1
    },
    {
      "id": "4c05f1a9-3aa2-4a68-9996-571849a781fb",
      "cell_type": "code",
      "source": "#W2A3\na = int(input(\"Nhap so nguyen a: \"))\nb = int(input(\"Nhap so nguyen b: \"))\nprint(f'{a} + {b} = {a + b}')\nprint(f'{a} - {b} = {a - b}')\nprint(f'{a} * {b} = {a * b}')\nprint(f'{a} // {b} = {a // b}')\nprint(f'{a} % {b} = {a % b}')\nprint(f'{a} / {b} = {a/b:.2f}')",
      "metadata": {
        "trusted": true
      },
      "outputs": [
        {
          "output_type": "stream",
          "name": "stdin",
          "text": "Nhap so nguyen a:  14\nNhap so nguyen b:  5\n"
        },
        {
          "name": "stdout",
          "output_type": "stream",
          "text": "14 + 5 = 19\n14 - 5 = 9\n14 * 5 = 70\n14 // 5 = 2\n14 % 5 = 4\n14 / 5 = 2.80\n"
        }
      ],
      "execution_count": 17
    },
    {
      "id": "f7001bd9-6b73-40c8-bd9c-4ef6467199a2",
      "cell_type": "code",
      "source": "#W2A4\na1, b1, c1, a2, b2, c3 = map(float, input(\"Nhap lan luot cac dau diem: \").split())\nTB = round(((a1 + b1 + c1 + 2*a2 + 2*b2 + c3*3)/10),1)\nprint(\"TB =\", TB)",
      "metadata": {
        "trusted": true
      },
      "outputs": [
        {
          "output_type": "stream",
          "name": "stdin",
          "text": "Nhap lan luot cac dau diem:  9 10 8 9 0 7\n"
        },
        {
          "name": "stdout",
          "output_type": "stream",
          "text": "TB = 6.6\n"
        }
      ],
      "execution_count": 27
    },
    {
      "id": "9b9ccf98-b634-4f0e-b8f2-fed49b89bf02",
      "cell_type": "code",
      "source": "#W2A5\na, b = map(float, input().split())\nprint(a**b)",
      "metadata": {
        "trusted": true
      },
      "outputs": [
        {
          "output_type": "stream",
          "name": "stdin",
          "text": " 2 3\n"
        },
        {
          "name": "stdout",
          "output_type": "stream",
          "text": "8.0\n"
        }
      ],
      "execution_count": 31
    },
    {
      "id": "dac6e727-36b9-4b01-bb75-3f9671c1832c",
      "cell_type": "code",
      "source": "#W2A6\nchar = input()\nprint(ord(char))\nhoa = int(ord(char)) - 32\nprint(chr(hoa))",
      "metadata": {
        "trusted": true
      },
      "outputs": [
        {
          "output_type": "stream",
          "name": "stdin",
          "text": " a\n"
        },
        {
          "name": "stdout",
          "output_type": "stream",
          "text": "97\nA\n"
        }
      ],
      "execution_count": 87
    },
    {
      "id": "39d70251-b65e-4780-bbd4-282de9c49211",
      "cell_type": "code",
      "source": "#W2A7\nA = ((13**2)*3 + 5)\nB = 13**2*3 + 5\nprint(A,B)\n",
      "metadata": {
        "trusted": true
      },
      "outputs": [
        {
          "name": "stdout",
          "output_type": "stream",
          "text": "512 512\n"
        }
      ],
      "execution_count": 41
    },
    {
      "id": "54c128d3-cdec-4990-a6f4-881fa822821f",
      "cell_type": "code",
      "source": "#W2A8\nC = float(input(\"Nhap nhiet do C:\"))\nF = 9/5*C + 32\nprint(round(F,2))",
      "metadata": {
        "trusted": true
      },
      "outputs": [
        {
          "output_type": "stream",
          "name": "stdin",
          "text": "Nhap nhiet do C: 45\n"
        },
        {
          "name": "stdout",
          "output_type": "stream",
          "text": "113.0\n"
        }
      ],
      "execution_count": 105
    },
    {
      "id": "23ce14ae-f72b-4df7-9b48-ed18e5381486",
      "cell_type": "code",
      "source": "#W2A9\ngia = float(input(\"Gia chiec dong ho: \"))\nthue_xuat_nhap_canh = gia * 3 / 10\nVAT = gia / 10\nprint(\"So tien phai tra la \",gia + thue_xuat_nhap_canh + VAT + 10)\n",
      "metadata": {
        "trusted": true
      },
      "outputs": [
        {
          "output_type": "stream",
          "name": "stdin",
          "text": "Gia chiec dong ho:  13\n"
        },
        {
          "name": "stdout",
          "output_type": "stream",
          "text": "So tien phai tra la  28.2\n"
        }
      ],
      "execution_count": 53
    },
    {
      "id": "aea58403-74d8-4ffb-808e-8c5f0116216c",
      "cell_type": "code",
      "source": "#W2A10\na, b, c = input().title().split()\nprint(\"Hi \", c, \", \", b, \" and \", a, sep = \"\")",
      "metadata": {
        "trusted": true
      },
      "outputs": [
        {
          "output_type": "stream",
          "name": "stdin",
          "text": " an nhung chut\n"
        },
        {
          "name": "stdout",
          "output_type": "stream",
          "text": "Hi Chut, Nhung and An\n"
        }
      ],
      "execution_count": 61
    },
    {
      "id": "c3e2ba87-6891-4b8d-bee5-6150d3dca6ea",
      "cell_type": "code",
      "source": "#W2A11\nh = int(input(\"Nhap so gio: \"))\nm = int(input(\"Nhap so phut: \"))\nh_to_s = h * 3600\nm_to_s = m * 60\nprint(str(h), \" gio \", str(m), \" phut = \", (h_to_s + m_to_s), \" giay \" )",
      "metadata": {
        "trusted": true
      },
      "outputs": [
        {
          "output_type": "stream",
          "name": "stdin",
          "text": "Nhap so gio:  0\nNhap so phut:  2\n"
        },
        {
          "name": "stdout",
          "output_type": "stream",
          "text": "0  gio  2  phut =  120  giay \n"
        }
      ],
      "execution_count": 64
    },
    {
      "id": "45f5435e-f956-4e53-88cf-732a1b2e6f14",
      "cell_type": "code",
      "source": "#W2A12\ncanh = int(input(\"Nhap so canh cua rubik: \"))\nmieng_dan = canh**2*6\nprint(\"So mieng dan can la: \", mieng_dan )",
      "metadata": {
        "trusted": true
      },
      "outputs": [
        {
          "output_type": "stream",
          "name": "stdin",
          "text": "Nhap so canh cua rubik:  2\n"
        },
        {
          "name": "stdout",
          "output_type": "stream",
          "text": "So mieng dan can la:  24\n"
        }
      ],
      "execution_count": 75
    },
    {
      "id": "0e9a1f13-b956-4e94-a946-1fd7dbba4040",
      "cell_type": "code",
      "source": "#W2A13\na = int(input(\"Nhap so a: \"))\nb = int(input(\"Nhap so b: \"))\nprint((a*b)%10)",
      "metadata": {
        "trusted": true
      },
      "outputs": [
        {
          "output_type": "stream",
          "name": "stdin",
          "text": "Nhap so a:  3\nNhap so b:  6\n"
        },
        {
          "name": "stdout",
          "output_type": "stream",
          "text": "8\n"
        }
      ],
      "execution_count": 79
    },
    {
      "id": "245852fe-b3a1-4193-a920-0b9746a61b1b",
      "cell_type": "code",
      "source": "#W2A14\na = input(\"Nhap so a: \")\nb = input(\"Nhap so b: \")\nprint(a, b)\na, b = b, a\nprint(a, b)",
      "metadata": {
        "trusted": true
      },
      "outputs": [
        {
          "output_type": "stream",
          "name": "stdin",
          "text": "Nhap so a:  3\nNhap so b:  6\n"
        },
        {
          "name": "stdout",
          "output_type": "stream",
          "text": "3 6\n6 3\n"
        }
      ],
      "execution_count": 80
    },
    {
      "id": "05263299-dc32-4498-9d8c-38fd9ecb4677",
      "cell_type": "code",
      "source": "#W2A15\nn = int(input(\"Nhap so n: \"))\nprint(\"So sao thu\", n,  \"=\",(6*n*(n-1)+1))",
      "metadata": {
        "trusted": true
      },
      "outputs": [
        {
          "output_type": "stream",
          "name": "stdin",
          "text": " 2\n"
        },
        {
          "name": "stdout",
          "output_type": "stream",
          "text": "So sao thu 2 = 13\n"
        }
      ],
      "execution_count": 102
    },
    {
      "id": "2a7c42f1-7784-492f-9942-103d8240d061",
      "cell_type": "code",
      "source": "#W2A16\nprint(\"Spring\\nSummer\\nAutumn\\nWinter\")\nprint('''Spring\nSummer\nAutumn\nWinter''')",
      "metadata": {
        "trusted": true
      },
      "outputs": [
        {
          "name": "stdout",
          "output_type": "stream",
          "text": "Spring\nSummer\nAutumn\nWinter\nSpring\nSummer\nAutumn\nWinter\n"
        }
      ],
      "execution_count": 89
    },
    {
      "id": "1b762be1-73a6-4e92-bc66-331b96c5bb28",
      "cell_type": "code",
      "source": "#W2A17\nprint(\"  *\")\nprint(\" ***\")\nprint(\"*****\")",
      "metadata": {
        "trusted": true
      },
      "outputs": [
        {
          "name": "stdout",
          "output_type": "stream",
          "text": "  *\n ***\n*****\n"
        }
      ],
      "execution_count": 90
    },
    {
      "id": "dccd8c28-97ff-42f7-821f-41a14096cd6f",
      "cell_type": "code",
      "source": "#W2A18\nprint(\"### #  ### ###\")\nprint(\" #  # #  #   #\")\nprint(\" #  # #  #   #\")\nprint(\" #  # #  #   # \")\nprint(\" #  #    #   #  \")",
      "metadata": {
        "trusted": true
      },
      "outputs": [
        {
          "name": "stdout",
          "output_type": "stream",
          "text": "### #  ### ###\n #  # #  #   #\n #  # #  #   #\n #  # #  #   # \n #  #    #   #  \n"
        }
      ],
      "execution_count": 104
    },
    {
      "id": "1b20ca2c-75fd-4a4a-bcc0-9b7fbea61ff6",
      "cell_type": "code",
      "source": "#W2A19\nprint(\"Monday\\nTuesday\\nWednesday\\nThursday\\nFriday\\nSaturday\\nSunday\")\nprint('''Monday\nTuesday\nWednesday\nThursday\nFriday\nSaturday\nSunday''')",
      "metadata": {
        "trusted": true
      },
      "outputs": [
        {
          "name": "stdout",
          "output_type": "stream",
          "text": "Monday\nTuesday\nWednesday\nThursday\nFriday\nSaturday\nSunday\nMonday\nTuesday\nWednesday\nThursday\nFriday\nSaturday\nSunday\n"
        }
      ],
      "execution_count": 93
    },
    {
      "id": "8801bf70-75f4-40d1-a2d1-aa8a875cb080",
      "cell_type": "code",
      "source": "#W2A20\nprint('''January\nFebruary\nMarch\nApril\nMay\nJune\nJuly\nAugust\nSeptember\nOctober\nNovember\nDecember''')",
      "metadata": {
        "trusted": true
      },
      "outputs": [
        {
          "name": "stdout",
          "output_type": "stream",
          "text": "January\nFebruary\nMarch\nApril\nMay\nJune\nJuly\nAugust\nSeptember\nOctober\nNovember\nDecember\n"
        }
      ],
      "execution_count": 95
    },
    {
      "id": "e9478457-6ecc-48ff-b353-41ab5024d515",
      "cell_type": "code",
      "source": "#W2A21\nfor i in range(10):\n    print(\"Hello world\")\nprint(\"Hello world \\n\" * 10)",
      "metadata": {
        "trusted": true
      },
      "outputs": [
        {
          "name": "stdout",
          "output_type": "stream",
          "text": "Hello world\nHello world\nHello world\nHello world\nHello world\nHello world\nHello world\nHello world\nHello world\nHello world\nHello world \nHello world \nHello world \nHello world \nHello world \nHello world \nHello world \nHello world \nHello world \nHello world \n\n"
        }
      ],
      "execution_count": 97
    },
    {
      "id": "15b318ff-f607-412a-bab2-b21c7d6a1571",
      "cell_type": "code",
      "source": "",
      "metadata": {
        "trusted": true
      },
      "outputs": [],
      "execution_count": null
    }
  ]
}