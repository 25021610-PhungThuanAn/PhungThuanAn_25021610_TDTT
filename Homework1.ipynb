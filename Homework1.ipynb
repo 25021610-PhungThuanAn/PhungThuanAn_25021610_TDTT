{
  "metadata": {
    "kernelspec": {
      "name": "python",
      "display_name": "Python (Pyodide)",
      "language": "python"
    },
    "language_info": {
      "codemirror_mode": {
        "name": "python",
        "version": 3
      },
      "file_extension": ".py",
      "mimetype": "text/x-python",
      "name": "python",
      "nbconvert_exporter": "python",
      "pygments_lexer": "ipython3",
      "version": "3.8"
    }
  },
  "nbformat_minor": 5,
  "nbformat": 4,
  "cells": [
    {
      "id": "7562a309-869b-48a1-9707-5e57f9382cbf",
      "cell_type": "code",
      "source": "# Bai 2\nn = int(input(\"Nhap so nguyen n: \"))\nprint(2*n)",
      "metadata": {
        "trusted": true
      },
      "outputs": [
        {
          "output_type": "stream",
          "name": "stdin",
          "text": "Nhap so nguyen n:  4\n"
        },
        {
          "name": "stdout",
          "output_type": "stream",
          "text": "8\n"
        }
      ],
      "execution_count": 1
    },
    {
      "id": "8950777e-d402-4696-8bba-93f7b1cf24b5",
      "cell_type": "code",
      "source": "# Bai 3\npi = 3.14\nwhile True:\n    a = float(input(\"Nhap chieu rong: \"))\n    b = float(input(\"Nhap chieu dai: \"))\n    if a < b:\n        break\n    else:\n        print(\"Chieu dai phai lon hon chieu rong, vui long nhap lai\")\ns_hcn = a*b\ns_tron = pi * (a / 2) ** 2\ns_trong_cay = s_hcn - s_tron\nprint(\"Dien tich trong cay:\", round(s_trong_cay,2))",
      "metadata": {
        "trusted": true
      },
      "outputs": [
        {
          "output_type": "stream",
          "name": "stdin",
          "text": "Nhap chieu rong:  3\nNhap chieu dai:  6\n"
        },
        {
          "name": "stdout",
          "output_type": "stream",
          "text": "Dien tich trong cay: 10.93\n"
        }
      ],
      "execution_count": 14
    },
    {
      "id": "457fa461-fe80-4fbe-86d2-5ac30ef7f3a2",
      "cell_type": "code",
      "source": "# Bai 4\nchu = input(\"Nhap ki tu: \")\nif chu.isupper(): # isupper để kiểm tra xem kí tự nhập vào có phải chữ hoa không\n    num = ord(chu)\n    hoa = num + 32\n    print(chr(hoa))\nelif chu.islower():\n    num = ord(chu)\n    thuong = num - 32\n    print(chr(thuong))\n    \n",
      "metadata": {
        "trusted": true
      },
      "outputs": [
        {
          "output_type": "stream",
          "name": "stdin",
          "text": "Nhap ki tu:  c\n"
        },
        {
          "name": "stdout",
          "output_type": "stream",
          "text": "C\n"
        }
      ],
      "execution_count": 31
    },
    {
      "id": "68063a92-4c53-4311-ba61-8f773e5b4e1b",
      "cell_type": "code",
      "source": "# Bai 5\nwhile True:\n    ki_tu = input(\"Nhap 1 ki tu bat ki: \")\n    if len(ki_tu) != 1:\n        print(\"Chi nhap 1 ki tu\")\n    else:\n        if ki_tu.isalpha():\n            print(ki_tu,  \"là kí tự alphabet\")\n        else:\n            print(ki_tu, \"không phải kí tự alphabet\")\n        break\n",
      "metadata": {
        "trusted": true
      },
      "outputs": [
        {
          "output_type": "stream",
          "name": "stdin",
          "text": "Nhap 1 ki tu bat ki:  a\n"
        },
        {
          "name": "stdout",
          "output_type": "stream",
          "text": "a là kí tự alphabet\n"
        }
      ],
      "execution_count": 46
    },
    {
      "id": "4dc07ec9-74dd-4ea4-bd2c-7b1248b90430",
      "cell_type": "code",
      "source": "# Bai 6\na, b, c = map(float, input(\"Nhập 3 số bất kì: \").split())\nif (a < 0) or (b < 0) or (c < 0):\n    print(\"Khong phai 3 canh cua tam giac\")\nelif (a + b > c) and (a + c > b) and (b + c > a):\n    nua_chu_vi = (a + b + c) / 2\n    s = (nua_chu_vi * (nua_chu_vi - a) * (nua_chu_vi - b) * (nua_chu_vi - c)) ** (1 / 2)\n    print(round(s,1))\nelse:\n    print(\"Khong phai 3 canh cua tam giac\")\n    ",
      "metadata": {
        "trusted": true
      },
      "outputs": [
        {
          "output_type": "stream",
          "name": "stdin",
          "text": "Nhập 3 số bất kì:  3 5 7\n"
        },
        {
          "name": "stdout",
          "output_type": "stream",
          "text": "6.5\n"
        }
      ],
      "execution_count": 59
    },
    {
      "id": "04213b25-5b02-4008-9ef3-548f4af71807",
      "cell_type": "code",
      "source": "# Bai 7\nchuoi = input()\nprint(chuoi[4], chuoi[8])",
      "metadata": {
        "trusted": true
      },
      "outputs": [
        {
          "output_type": "stream",
          "name": "stdin",
          "text": " qưertyuiopqwertyuiopqw\n"
        },
        {
          "name": "stdout",
          "output_type": "stream",
          "text": "t o\n"
        }
      ],
      "execution_count": 62
    },
    {
      "id": "0404db25-81a4-4838-997f-59b2e788ba83",
      "cell_type": "code",
      "source": "# Bai 8\ndef main():\n    ten_chu_ho = input(\"Nhap ten chu ho: \")\n    thang_truoc = int(input(\"Nhap so dien thang truoc:\"))\n    thang_nay = int(input(\"Nhap so dien thang nay: \"))\n    so_dien = thang_nay - thang_truoc\n    muc1, muc2, muc3, muc4, muc5, muc6 = 1984, 2050, 2380, 2998, 3350, 3460\n    tinh_tong_tien(so_dien, 1984, 2050, 2380, 2998, 3350, 3460)\n    tien = tinh_tong_tien(so_dien, muc1, muc2, muc3, muc4, muc5, muc6) * 108 / 100\n    print(\"Ho va ten:\", ten_chu_ho)\n    print(\"Tien phai tra la:\", round(tien))\n\ndef tinh_tong_tien(so_dien, muc1, muc2, muc3, muc4, muc5, muc6):\n    if so_dien > 0 and so_dien <= 50:\n        tong = so_dien * muc1\n    elif so_dien > 50 and so_dien <= 100:\n        tong = (so_dien - 50) * muc2 + 50 * muc1\n    elif so_dien > 100 and so_dien <= 200:\n        tong = 50 * (muc1 + muc2) + (so_dien - 100) * muc3\n    elif so_dien > 200 and so_dien <= 300:\n        tong = 50 * (muc1 + muc2) + muc3 * 100 + (so_dien - 200) * muc4\n    elif so_dien > 300 and so_dien <= 400:\n        tong = 50 * (muc1 + muc2) + 100 * (muc3 + muc4) + (so_dien - 300) * muc5\n    else:\n        tong = 50 * (muc1 + muc2) + 100 * (muc3 + muc4 + muc5) + (so_dien - 400) * muc6\n    return tong\n\nmain()\n\n\n\n    \n",
      "metadata": {
        "trusted": true
      },
      "outputs": [
        {
          "output_type": "stream",
          "name": "stdin",
          "text": "Nhap ten chu ho:  Nguyen Xuan Hai\nNhap so dien thang truoc: 2000\nNhap so dien thang nay:  2586\n"
        },
        {
          "name": "stdout",
          "output_type": "stream",
          "text": "Ho va ten: Nguyen Xuan Hai\nTien phai tra la: 1855505\n"
        }
      ],
      "execution_count": 91
    },
    {
      "id": "063be830-7d8a-4d43-961a-d7ab9aad7f7c",
      "cell_type": "code",
      "source": "",
      "metadata": {
        "trusted": true
      },
      "outputs": [],
      "execution_count": null
    }
  ]
}