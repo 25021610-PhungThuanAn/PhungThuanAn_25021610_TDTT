{
  "metadata": {
    "kernelspec": {
      "name": "python",
      "display_name": "Python (Pyodide)",
      "language": "python"
    },
    "language_info": {
      "codemirror_mode": {
        "name": "python",
        "version": 3
      },
      "file_extension": ".py",
      "mimetype": "text/x-python",
      "name": "python",
      "nbconvert_exporter": "python",
      "pygments_lexer": "ipython3",
      "version": "3.8"
    }
  },
  "nbformat_minor": 5,
  "nbformat": 4,
  "cells": [
    {
      "id": "bff87ced-ba35-4018-9113-7d64d9159fc8",
      "cell_type": "code",
      "source": "#W1A1\na = 7 # gan gia tri 7 cho a\nb = 5 # gan gia tri 5 cho b\nc = a - b # c bang a-b\nprint(c) # in c ra man hinh\n",
      "metadata": {
        "trusted": true
      },
      "outputs": [
        {
          "name": "stdout",
          "output_type": "stream",
          "text": "2\n"
        }
      ],
      "execution_count": 1
    },
    {
      "id": "ce5dae0c-84c0-4d54-8d97-459901c30b99",
      "cell_type": "code",
      "source": "#W1A2\ncity = \"Ha Noi\" # gan Ha Noi cho bien city\nyear = 2025 # gan 2025 cho bien year\nprint(\"Thanh pho\", city, \" - Nam: \", year) # in ra man hinh ",
      "metadata": {
        "trusted": true
      },
      "outputs": [
        {
          "name": "stdout",
          "output_type": "stream",
          "text": "Thanh pho Ha Noi  - Nam:  2025\n"
        }
      ],
      "execution_count": 3
    },
    {
      "id": "4662f12c-7fe4-4f2d-968b-5a6ebe64823a",
      "cell_type": "code",
      "source": "#W1A3\nn = 4 # gan 4 cho bien n\nt = 0 # gan 0 cho bien t\nfor i in range(1, n+1): # voi i chay tu 1 den n\n    t += i # t = t + i\n    print(t) # in t ra man hinh\n\nn = 4\nt = 0\nfor i in range(1, n+1):\n    t += i\nprint(t)",
      "metadata": {
        "trusted": true
      },
      "outputs": [
        {
          "name": "stdout",
          "output_type": "stream",
          "text": "1\n3\n6\n10\n10\n"
        }
      ],
      "execution_count": 5
    },
    {
      "id": "72e3e236-ace2-4e70-a8bd-fa6ee319c53f",
      "cell_type": "code",
      "source": "#W1A4\nnumbers = [1, 2, 3, 4] # tao 1 danh sach numbers la tap hop cac so tu 1 den 4\nfor x in numbers: # voi x trong numbers\n    if x % 2 == 0: # neu x chia 2 du 0\n        print(x, \"la so chan\") # in ra man hinh x la so chan\n    else: # neu khong thi\n        print(x, \"la so le\") # in ra man hinh x la so le\n    ",
      "metadata": {
        "trusted": true
      },
      "outputs": [
        {
          "name": "stdout",
          "output_type": "stream",
          "text": "1 la so le\n2 la so chan\n3 la so le\n4 la so chan\n"
        }
      ],
      "execution_count": 12
    },
    {
      "id": "9b7101c7-d971-4249-a31d-df701cb29f07",
      "cell_type": "code",
      "source": "#W1A5\nanimals = [\"cat\", \"dog\", \"cat\", \"bird\"] # tao 1 danh sach ten animals voi 4 phan tu ...\ncount = 0 # gan 0 cho bien count\nfor a in animals: # voi a trong danh sach animals\n    count += 1 # count = count + 1, moi lan lap lai + them 1\nprint(\"So phan tu trong a la:\", count) # in ra man hinh count khi dem het",
      "metadata": {
        "trusted": true
      },
      "outputs": [
        {
          "name": "stdout",
          "output_type": "stream",
          "text": "So phan tu trong a la: 4\n"
        }
      ],
      "execution_count": 14
    },
    {
      "id": "8d9473d3-e23f-40be-a28a-45260f12d709",
      "cell_type": "code",
      "source": "#W1A6\nprint(\" === AI Prediction System ===\") # in ra dong chu === AI Prediction System ===\nprint(\"1) Sentiment analysis\") # in ra dong chu 1) Sentiment analysis\nprint(\"2) Weather forecast\") # in ra dong chu 2) Weather forecast\nprint(\"3) Exit\") # in ra dong chu 3) Exit\nprint(\"Please choose an option\") # in ra dong chu Please choose an option",
      "metadata": {
        "trusted": true
      },
      "outputs": [
        {
          "name": "stdout",
          "output_type": "stream",
          "text": " === AI Prediction System ===\n1) Sentiment analysis\n2) Weather forecast\n3) Exit\nPlease choose an option\n"
        }
      ],
      "execution_count": 22
    },
    {
      "id": "24518042-dbbe-4c0c-8db9-e96166806e58",
      "cell_type": "code",
      "source": "#W1A7\nnum = int(input(\"Nhap so: \")) # thong bao nhap so de nguoi dung nhap 1 so voi dinh dang int\nif num % 2 == 0: # neu so vua nhap chia 2 du 0\n    print(\"So chan\") # in ra man hinh So chan\nelse: # neu khong thi\n    print(\"So le\") # in ra man hinh So le",
      "metadata": {
        "trusted": true
      },
      "outputs": [
        {
          "output_type": "stream",
          "name": "stdin",
          "text": "Nhap so:  12\n"
        },
        {
          "name": "stdout",
          "output_type": "stream",
          "text": "So chan\n"
        }
      ],
      "execution_count": 24
    },
    {
      "id": "5f9a0958-8b4c-47a0-809a-292f5d89f05a",
      "cell_type": "code",
      "source": "#W1A8\nfor i in range(3): # tao ra 1 day so chay tu 0 den 2\n    print(\"AI dang doc lan\", i + 1) # in ra man hinh ... den khi het gia tri cua i\nprint(\"Huan luyen xong\") # in ra man hinh ...",
      "metadata": {
        "trusted": true
      },
      "outputs": [
        {
          "name": "stdout",
          "output_type": "stream",
          "text": "AI dang doc lan 1\nAI dang doc lan 2\nAI dang doc lan 3\nHuan luyen xong\n"
        }
      ],
      "execution_count": 25
    },
    {
      "id": "382fa7c3-94ef-452f-a684-e464295b5f2f",
      "cell_type": "code",
      "source": "#W1A9\nfor x in [\"cat\", \"dog\", \"fish\"]: # voi x chay trong tap hop gom cat, dog, fish\n    print(\"Du doan con vat\", x) # in ra man hinh ...\n",
      "metadata": {
        "trusted": true
      },
      "outputs": [
        {
          "name": "stdout",
          "output_type": "stream",
          "text": "Du doan con vat cat\nDu doan con vat dog\nDu doan con vat fish\n"
        }
      ],
      "execution_count": 26
    },
    {
      "id": "f3323aaa-095f-4b14-af34-3994d22d08d6",
      "cell_type": "code",
      "source": "#W1A10\n# Simple menu\nprint(\" === AI Prediction System ===\") # in ra dong chu === AI Prediction System ===\nprint(\"1) Sentiment analysis\") # in ra dong chu 1) Sentiment analysis\nprint(\"2) Weather forecast\") # in ra dong chu 2) Weather forecast\nprint(\"3) Exit\") # in ra dong chu 3) Exit\nprint(\"Please choose an option\") # in ra man hinh dong chu Please choose an option",
      "metadata": {
        "trusted": true
      },
      "outputs": [
        {
          "name": "stdout",
          "output_type": "stream",
          "text": " === AI Prediction System ===\n1) Sentiment analysis\n2) Weather forecast\n3) Exit\nPlease choose an option\n"
        }
      ],
      "execution_count": 27
    }
  ]
}