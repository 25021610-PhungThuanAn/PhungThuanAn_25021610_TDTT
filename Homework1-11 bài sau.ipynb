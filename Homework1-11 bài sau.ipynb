{
  "metadata": {
    "kernelspec": {
      "name": "python",
      "display_name": "Python (Pyodide)",
      "language": "python"
    },
    "language_info": {
      "codemirror_mode": {
        "name": "python",
        "version": 3
      },
      "file_extension": ".py",
      "mimetype": "text/x-python",
      "name": "python",
      "nbconvert_exporter": "python",
      "pygments_lexer": "ipython3",
      "version": "3.8"
    }
  },
  "nbformat_minor": 5,
  "nbformat": 4,
  "cells": [
    {
      "id": "9a5dd977-a55e-451b-ad32-516c936df616",
      "cell_type": "code",
      "source": "# Bai 1\nso = int(input(\"Nhập 1 số nguyên bất kì: \"))\nif so % 2 == 0:\n    print(so, \"là 1 số chẵn\")\nelse:\n    print(so, \"là 1 số lẻ\")\n          ",
      "metadata": {
        "trusted": true
      },
      "outputs": [
        {
          "output_type": "stream",
          "name": "stdin",
          "text": "Nhập 1 số nguyên bất kì:  3\n"
        },
        {
          "name": "stdout",
          "output_type": "stream",
          "text": "3 là 1 số lẻ\n"
        }
      ],
      "execution_count": 1
    },
    {
      "id": "5e62f7b0-67dd-4851-852e-e7c549fe9b25",
      "cell_type": "code",
      "source": "# Bai 2\nso = int(input(\"Nhập 1 số nguyên bất kì:\"))\nif so % 10 == 5:\n    print(so, \"có tận cùng là 5\")\nelse:\n    print(so, \"không có tận cùng là 5\")",
      "metadata": {
        "trusted": true
      },
      "outputs": [
        {
          "output_type": "stream",
          "name": "stdin",
          "text": "Nhập 1 số nguyên bất kì: 2442\n"
        },
        {
          "name": "stdout",
          "output_type": "stream",
          "text": "2442 không có tận cùng là 5\n"
        }
      ],
      "execution_count": 4
    },
    {
      "id": "9673d8ad-0f60-4db5-bb40-7fdc379dbb4f",
      "cell_type": "code",
      "source": "# Bài 3\nso = int(input(\"Nhập 1 số nguyên bất kì:\"))\nif so % 15 == 0:\n    print(\"True\")\nelse:\n    print(\"False\")",
      "metadata": {
        "trusted": true
      },
      "outputs": [
        {
          "output_type": "stream",
          "name": "stdin",
          "text": "Nhập 1 số nguyên bất kì: 2425\n"
        },
        {
          "name": "stdout",
          "output_type": "stream",
          "text": "False\n"
        }
      ],
      "execution_count": 6
    },
    {
      "id": "13c19e70-2269-4083-8dc1-0b1c988654cb",
      "cell_type": "code",
      "source": "#Bài 4\nCURRENT_YEAR = 2025\nyear_born = int(input(\"Nhập năm sinh của bạn: \"))\nyear_old =  CURRENT_YEAR - year_born\nif year_old >= 18:\n    print(\"Đủ tuổi đi bầu cử\")\nelse:\n    print(\"Chưa đủ tuổi đi bầu cử\")\n    ",
      "metadata": {
        "trusted": true
      },
      "outputs": [
        {
          "output_type": "stream",
          "name": "stdin",
          "text": "Nhập năm sinh của bạn:  2008\n"
        },
        {
          "name": "stdout",
          "output_type": "stream",
          "text": "Chưa đủ tuổi đi bầu cử\n"
        }
      ],
      "execution_count": 10
    },
    {
      "id": "046e7758-13c4-4617-bcf1-5bafcee9d2b5",
      "cell_type": "code",
      "source": "# Bài 5\nso1 = float(input(\"Nhập số thứ nhất: \"))\nso2 = float(input(\"Nhập số thứ hai: \"))\nif so1 > so2:\n    print(so1)\nelif so1 < so2:\n    print(so2)\nelse:\n    print(\"2 số bằng nhau\")",
      "metadata": {
        "trusted": true
      },
      "outputs": [
        {
          "output_type": "stream",
          "name": "stdin",
          "text": "Nhập số thứ nhất:  4\nNhập số thứ hai:  4\n"
        },
        {
          "name": "stdout",
          "output_type": "stream",
          "text": "2 số bằng nhau\n"
        }
      ],
      "execution_count": 13
    },
    {
      "id": "cfd0337d-1a59-4882-9e15-85f31916b37a",
      "cell_type": "code",
      "source": "# Bài 6\nchar = input(\"Nhập vào 1 kí tự bất kì từ bàn phím: \")\nif char.isalpha():\n    print(char, \"là một chữ cái\")\nelif char.isdigit():\n    print(char,\" là một số\")\nelse:\n    print(char, \"không phải là chữ cũng không phải là số\")",
      "metadata": {
        "trusted": true
      },
      "outputs": [
        {
          "output_type": "stream",
          "name": "stdin",
          "text": "Nhập vào 1 kí tự bất kì từ bàn phím:  @\n"
        },
        {
          "name": "stdout",
          "output_type": "stream",
          "text": "@ không phải là chữ cũng không phải là số\n"
        }
      ],
      "execution_count": 29
    },
    {
      "id": "76a9d0d1-261d-4e5c-a43d-64c54a603737",
      "cell_type": "code",
      "source": "# Bai 7\ndiem = float(input(\"Nhập điểm học lực của bạn: \"))\nif diem < 5:\n    print(\"Yếu\")\nelif diem >=5 and diem < 6.5:\n    print(\"Trung bình\")\nelif diem >= 6.5 and diem < 8:\n    print(\"Khá\")\nelif diem >=8 and diem <= 10:\n    print(\"Giỏi\")\nelse:\n    print(\"Chỉ nhập điểm trong khoảng từ 0-10\")\n    ",
      "metadata": {
        "trusted": true
      },
      "outputs": [
        {
          "output_type": "stream",
          "name": "stdin",
          "text": "Nhập điểm học lực của bạn:  9\n"
        },
        {
          "name": "stdout",
          "output_type": "stream",
          "text": "Giỏi\n"
        }
      ],
      "execution_count": 31
    },
    {
      "id": "da917b58-948e-400d-9d43-26b88d09a6d6",
      "cell_type": "code",
      "source": "# Bài 8\nnam = int(input(\"Nhập 1 năm bất kì: \"))\nif nam % 400 == 0:\n    print(nam, \"là 1 năm nhuận\")\nelif nam % 100 != 0 and nam % 4 == 0:\n    print(nam, \"là 1 năm nhuận\")\nelse:\n    print(nam, \"không phải năm nhuận\")",
      "metadata": {
        "trusted": true
      },
      "outputs": [
        {
          "output_type": "stream",
          "name": "stdin",
          "text": "Nhập 1 năm bất kì:  1934\n"
        },
        {
          "name": "stdout",
          "output_type": "stream",
          "text": "1934 không phải năm nhuận\n"
        }
      ],
      "execution_count": 32
    },
    {
      "id": "05b0892c-393f-4dc9-a1fb-a464dad55cd1",
      "cell_type": "code",
      "source": "# Bài 9\nnum = int(input(\"Nhập 1 số tự nhiên bất kì từ 0 đến 9: \"))\nmatch num:\n    case 0:\n        print(\"Không\")\n    case 1:\n        print(\"Một\")\n    case 2:\n        print(\"Hai\")\n    case 3:\n        print(\"Ba\")\n    case 4:\n        print(\"Bốn\")\n    case 5:\n        print(\"Năm\")\n    case 6:\n        print(\"Sáu\")\n    case 7:\n        print(\"Bảy\")\n    case 8:\n        print(\"Tám\")\n    case 9:\n        print(\"Chín\")\n    ",
      "metadata": {
        "trusted": true
      },
      "outputs": [
        {
          "output_type": "stream",
          "name": "stdin",
          "text": "Nhập 1 số tự nhiên bất kì từ 0 đến 9:  8\n"
        },
        {
          "name": "stdout",
          "output_type": "stream",
          "text": "Tám\n"
        }
      ],
      "execution_count": 45
    },
    {
      "id": "e308aa7d-57c2-4310-8174-d44c7b8419c0",
      "cell_type": "code",
      "source": "# bài 10\nscore = float(input(\"Nhập điểm thi của bạn: \"))\nif score >= 4 and score <= 10:\n    print(\"Qua môn\")\nelif score >= 0 and score < 4:\n    print(\"Học lại\")\nelse:\n    print(\"Chỉ nhập điểm trong khoảng từ 0-10\")",
      "metadata": {
        "trusted": true
      },
      "outputs": [
        {
          "output_type": "stream",
          "name": "stdin",
          "text": "Nhập điểm thi của bạn:  9.99\n"
        },
        {
          "name": "stdout",
          "output_type": "stream",
          "text": "Qua môn\n"
        }
      ],
      "execution_count": 35
    },
    {
      "id": "e58072d2-4f42-48f5-b9d4-2a959589aa0e",
      "cell_type": "code",
      "source": "# Bài 11\nCURRENT_YEAR = 2025\nyear_born = int(input(\"Nhập năm sinh của bạn: \"))\nyear_old =  CURRENT_YEAR - year_born\nprint(\"Bạn\", year_old, \"vào năm 2025\")\nif year_old >= 18:\n    print(\"Đủ 18 tuổi\")\nelse:\n    print(\"Chưa đủ 18 tuổi\")\n    ",
      "metadata": {
        "trusted": true
      },
      "outputs": [
        {
          "output_type": "stream",
          "name": "stdin",
          "text": "Nhập năm sinh của bạn:  2007\n"
        },
        {
          "name": "stdout",
          "output_type": "stream",
          "text": "Bạn 18 vào năm 2025\nĐủ 18 tuổi\n"
        }
      ],
      "execution_count": 39
    },
    {
      "id": "f1549287-0d3a-4d74-ba92-f86bb441ee51",
      "cell_type": "code",
      "source": "",
      "metadata": {
        "trusted": true
      },
      "outputs": [],
      "execution_count": null
    }
  ]
}