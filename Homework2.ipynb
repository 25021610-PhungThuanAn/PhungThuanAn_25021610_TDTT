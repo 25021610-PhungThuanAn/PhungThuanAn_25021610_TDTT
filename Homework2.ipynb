{
  "metadata": {
    "kernelspec": {
      "name": "python",
      "display_name": "Python (Pyodide)",
      "language": "python"
    },
    "language_info": {
      "codemirror_mode": {
        "name": "python",
        "version": 3
      },
      "file_extension": ".py",
      "mimetype": "text/x-python",
      "name": "python",
      "nbconvert_exporter": "python",
      "pygments_lexer": "ipython3",
      "version": "3.8"
    }
  },
  "nbformat_minor": 5,
  "nbformat": 4,
  "cells": [
    {
      "id": "acf8012f-de11-453a-a394-216a3df4530d",
      "cell_type": "code",
      "source": "# Bài 1\na, b = map(float, input(\"Nhập lần lượt 2 kích thước của hình chữ nhật (ngăn cách nhau bằng 1 dấu cách): \").split())\nprint(\"chu vi HCN =\", 2 * (a + b))\nprint(\"diện tích HCN =\", (a * b))",
      "metadata": {
        "trusted": true
      },
      "outputs": [
        {
          "output_type": "stream",
          "name": "stdin",
          "text": "Nhập lần lượt 2 kích thước của hình chữ nhật (ngăn cách nhau bằng dấu cách):  4 2\n"
        },
        {
          "name": "stdout",
          "output_type": "stream",
          "text": "chu vi HCN = 12.0\ndiện tích HCN = 8.0\n"
        }
      ],
      "execution_count": 12
    },
    {
      "id": "ef996584-63c7-425e-a3f9-2a15d06bb228",
      "cell_type": "code",
      "source": "# Bài 2\nPi = 3.14\nr = float(input(\"Nhập bán kính hình tròn:\"))\nprint(\"Diện tích hình tròn =\", Pi * r ** 2)",
      "metadata": {
        "trusted": true
      },
      "outputs": [
        {
          "output_type": "stream",
          "name": "stdin",
          "text": "Nhập bán kính hình tròn: 4\n"
        },
        {
          "name": "stdout",
          "output_type": "stream",
          "text": "Diện tích hình tròn = 50.24\n"
        }
      ],
      "execution_count": 13
    },
    {
      "id": "11f94acf-2e6a-4d80-958e-d4e4751c007b",
      "cell_type": "code",
      "source": "# Bài 3\na, b, c = map(float, input(\"Nhập 3 số bất kì ngăn cách nhau bởi 1 dấu cách: \").split())\nfrom math import sqrt\nnua_chu_vi = (a + b + c ) / 2\nif (a * b * c <= 0) or (a + b <= c) or (a + c <= b) or (b + c <= a):\n    print(\"khong la ba canh cua mot tam giac\")\nelse:\n    print(\"Chu vi tam giác =\", (a + b + c) )\n    print(\"Diện tích tam giác =\", sqrt(nua_chu_vi * (nua_chu_vi - a) * (nua_chu_vi - b) * (nua_chu_vi - c)))\n    if a == b == c:\n        print(\"Đây là 1 tam giác đều\")\n    elif (a == b) or (a == c) or (b == c) and ((a ** 2 + b ** 2 != c ** 2) and (b ** 2 + c ** 2 != a ** 2) and (a ** 2 + c ** 2 != b ** 2)):\n        print(\"Đây là 1 tam giác cân\")\n    elif (a ** 2 + b ** 2 == c ** 2) or (b ** 2 + c ** 2 == a ** 2) or (a ** 2 + c ** 2 == b ** 2) and (a != b) and (a != c) and (b != c) :\n        print(\"Đây là 1 tam giác vuông\")\n    elif (a == b) or (a == c) or (b == c) and ((a ** 2 + b ** 2 == c ** 2) or (b ** 2 + c ** 2 == a ** 2) or (a ** 2 + c ** 2 == b ** 2)):\n        print(\"Đây là 1 tam giác vuông cân\")\n    else: \n        print(\"Đây là 1 tam giác thường\")\n",
      "metadata": {
        "trusted": true
      },
      "outputs": [
        {
          "output_type": "stream",
          "name": "stdin",
          "text": "Nhập 3 số bất kì ngăn cách nhau bởi 1 dấu cách:  5 5 7.071\n"
        },
        {
          "name": "stdout",
          "output_type": "stream",
          "text": "Chu vi tam giác = 17.070999999999998\nDiện tích tam giác = 12.49999999770079\nĐây là 1 tam giác cân\n"
        }
      ],
      "execution_count": 27
    },
    {
      "id": "4f9514a0-ca2d-4016-89a4-70fbdc245716",
      "cell_type": "code",
      "source": "# Bài 4\na, b = map(float, input(\"Nhập hệ số a, b của phương trình ax + b = 0(ngăn cách nhau bởi 1 dấu cách): \").split())\nif a == 0:\n    if b == 0:\n        print(\"Phương trình có vô số nghiệm\")\n    else:\n        print(\"Phương trình vô nghiệm\")\nelse:\n    kq = -b / a\n    if kq == 0:\n        print(\"x =\", (0))\n    else:\n        print(\"x =\", (kq))\n    ",
      "metadata": {
        "trusted": true
      },
      "outputs": [
        {
          "output_type": "stream",
          "name": "stdin",
          "text": "Nhập hệ số a, b của phương trình ax + b = 0(ngăn cách nhau bởi 1 dấu cách):  3 4\n"
        },
        {
          "name": "stdout",
          "output_type": "stream",
          "text": "x = -1.3333333333333333\n"
        }
      ],
      "execution_count": 40
    },
    {
      "id": "58f250ee-303b-43c0-bc04-de5a6b2edbd2",
      "cell_type": "code",
      "source": "# Bài 5\n# Cách 1\na, b, c = map(float, input(\"Nhập hệ số a, b, c của phương trình ax² + bx + c = 0(ngăn cách nhau bởi 1 dấu cách):\").split())\nfrom math import sqrt\nif a == 0:\n    if b == 0:\n        if c == 0:\n            print(\"Phương trình vô số nghiệm\")\n        else:\n            print(\"Phương trình vô nghiệm\")\n    else:\n        nghiem = - c / b\n        if nghiem == 0:\n            print(\"x =\", 0)\n        else:\n            print(\"x =\", nghiem)\nelse:\n    delta = b ** 2 - 4 * a * c\n    if delta < 0:\n        print(\"Phương trình vô nghiệm\")\n    elif delta == 0:\n        nghiem_kep = -b / (2 * a)\n        if nghiem_kep == 0:\n            print(\"x =\", 0)\n        else:\n            print(\"x =\", nghiem_kep)\n    else:\n        x1 = (-b + sqrt(delta)) / (2 * a)\n        x2 = (-b - sqrt(delta)) / (2 * a)\n        print(f'x = {x1} hoặc x = {x2}')\n\n# Cách 2\na, b, c = map(float, input(\"Nhập hệ số a, b, c của phương trình ax² + bx + c = 0(ngăn cách nhau bởi 1 dấu cách):\").split())\nfrom math import sqrt\ndef in_nghiem(nghiem):\n    if nghiem == 0:      \n        print(\"x =\", 0)\n    else:\n        print(\"x =\", nghiem)\nif a == 0:\n    if b == 0:\n        if c == 0:\n            print(\"Phương trình có vô số nghiệm\")\n        else:\n            print(\"Phương trình vô nghiệm\")\n    else:\n        nghiem = - c / b\n        in_nghiem(nghiem)\nelse:\n    delta = b ** 2 - 4 * a * c\n    if delta < 0:\n        print(\"Phương trình vô nghiệm\")\n    elif delta == 0:\n        nghiem = - b / (2 * a)\n        in_nghiem(nghiem)\n    else:\n        x1 = (-b + sqrt(delta) ) / (2 * a)\n        x2 = (-b - sqrt(delta) ) / (2 * a)\n        print(x1, \"hoặc\", (x2))\n\n    ",
      "metadata": {
        "trusted": true
      },
      "outputs": [
        {
          "output_type": "stream",
          "name": "stdin",
          "text": "Nhập hệ số a, b, c của phương trình ax² + bx + c = 0(ngăn cách nhau bởi 1 dấu cách): 1 4 -2\n"
        },
        {
          "name": "stdout",
          "output_type": "stream",
          "text": "x = 0.4494897427831779 hoặc x = -4.449489742783178\n0.4494897427831779 hoặc -4.449489742783178\n"
        }
      ],
      "execution_count": 62
    },
    {
      "id": "863b8683-88e8-4442-b0c4-ee95f9050882",
      "cell_type": "code",
      "source": "# bài 6\n# Cách 1\na, b, c, d = map(float, input(\"Nhập 4 số bất kì từ bàn phím(các số ngăn cách bởi 1 dấu cách):\").split())\nmax_num = a\nnumber = [b, c, d]\nfor i in number:\n    if max_num < i:\n        max_num = i\nprint(\"Số lớn nhất trong 4 số vừa nhập là\", max_num)\n\n# Cách 2\na, b, c, d = map(float, input(\"Nhập 4 số bất kì từ bàn phím(các số ngăn cách bởi 1 dấu cách):\").split())\nmax_num = max(a, b, c, d)\nprint(\"Số lớn nhất trong 4 số là:\", max_num)",
      "metadata": {
        "trusted": true
      },
      "outputs": [
        {
          "output_type": "stream",
          "name": "stdin",
          "text": "Nhập 4 số bất kì từ bàn phím(các số ngăn cách bởi 1 dấu cách): 4 6 2 9\n"
        },
        {
          "name": "stdout",
          "output_type": "stream",
          "text": "Số lớn nhất trong 4 số vừa nhập là 9.0\n"
        },
        {
          "output_type": "stream",
          "name": "stdin",
          "text": "Nhập 4 số bất kì từ bàn phím(các số ngăn cách bởi 1 dấu cách): 4 9 02 34\n"
        },
        {
          "name": "stdout",
          "output_type": "stream",
          "text": "Số lớn nhất trong 4 số là: 34.0\n"
        }
      ],
      "execution_count": 68
    },
    {
      "id": "c612fa26-926a-4cac-a48f-68fa68d61910",
      "cell_type": "code",
      "source": "# Bài 7\n# Cách 1\na, b, c, d = map(float, input(\"Nhập 4 số bất kì từ bàn phím:\").split())\nmin_num = min(a, b, c, d)\nprint(\"Số nhỏ nhất trong 4 số là:\", min_num)\n\n\n# Cách 2\na, b, c, d = map(float, input(\"Nhập 4 số bất kì từ bàn phím:\").split())\nnumber = [b, c, d]\nmin_num = a\nfor i in number:\n    if min_num > i:\n        min_num = i\nprint(\"Số nhỏ nhất trong 4 số là\", min_num)",
      "metadata": {
        "trusted": true
      },
      "outputs": [
        {
          "output_type": "stream",
          "name": "stdin",
          "text": "Nhập 4 số bất kì từ bàn phím: 4 9 2 4\n"
        },
        {
          "name": "stdout",
          "output_type": "stream",
          "text": "Số nhỏ nhất trong 4 số là: 2.0\n"
        },
        {
          "output_type": "stream",
          "name": "stdin",
          "text": "Nhập 4 số bất kì từ bàn phím: 4 0 9 2\n"
        },
        {
          "name": "stdout",
          "output_type": "stream",
          "text": "Số nhỏ nhất trong 4 số là 0.0\n"
        }
      ],
      "execution_count": 72
    },
    {
      "id": "3069065f-348d-4526-9215-85d7fea908e5",
      "cell_type": "code",
      "source": "# Bài 8\na, b, m = map(float, input(\"Nhập lần lượt a, b, m của hệ 1(các số ngăn cách nhau bởi 1 dấu cách):\").split())\nc, d, n = map(float, input(\"Nhập lần lượt c, d, n của hệ 2(các số ngăn cách nhau bởi 1 dấu cách)\").split())\nD = a * d - b * c\nDx = d * m - b * n\nDy = a * n - m * c\nif D != 0:\n    x = Dx / D\n    y = Dy / D\n    print(\"x =\", x)\n    print(\"y =\", y)\nelif D == 0 and Dx == 0 and Dy == 0:\n    print(\"Hệ có vô số nghiệm\")\nelse:\n    print(\"Hệ vô nghiệm\")\n\n\n    ",
      "metadata": {
        "trusted": true
      },
      "outputs": [
        {
          "output_type": "stream",
          "name": "stdin",
          "text": "Nhập lần lượt a, b, m của hệ 1(các số ngăn cách nhau bởi 1 dấu cách): 3 4 5\nNhập lần lượt c, d, n của hệ 2(các số ngăn cách nhau bởi 1 dấu cách) 2 4 6\n"
        },
        {
          "name": "stdout",
          "output_type": "stream",
          "text": "x = 0.5\ny = 1.25\n"
        }
      ],
      "execution_count": 4
    },
    {
      "id": "88732479-997d-4740-9ba0-91d07598a5f2",
      "cell_type": "code",
      "source": "# Bài 9\ntime = int(input(\"Nhập thời gian hoàn thành công việc(giây)\"))\nh = time // 3600\ntime = time - 3600 * h\nminute = time // 60\nsec = time % 60\nprint(f'{h} giờ {minute} phút và {sec} giây')\n",
      "metadata": {
        "trusted": true
      },
      "outputs": [
        {
          "output_type": "stream",
          "name": "stdin",
          "text": "Nhập thời gian hoàn thành công việc(giây) 1241\n"
        },
        {
          "name": "stdout",
          "output_type": "stream",
          "text": "0 giờ 20 phút và 41 giây\n"
        }
      ],
      "execution_count": 74
    },
    {
      "id": "da77cd7a-eabc-4156-9c29-bb12840e99f9",
      "cell_type": "code",
      "source": "# Bài 10\na = float(input(\"Nhập tọa độ x của tâm đường tròn: \"))\nb = float(input(\"Nhập tọa độ y của tâm đường tròn: \"))\nr = float(input(\"Nhập bán kính đường tròn: \"))\nx = float(input(\"Nhập tọa độ x điểm A: \"))\ny = float(input(\"Nhập tọa độ y của điểm A: \"))\nfrom math import sqrt\ndistance = sqrt((x - a) ** 2 + (y - b) ** 2)\nif abs(distance - r) < 0.00001:\n    print(\"A thuộc đường tròn\")\nelif distance < r:\n    print(\"A nằm trong đường tròn\")\nelse:\n    print(\"A nằm ngoài đường tròn\")",
      "metadata": {
        "trusted": true
      },
      "outputs": [
        {
          "output_type": "stream",
          "name": "stdin",
          "text": "Nhập tọa độ x của tâm đường tròn:  3\nNhập tọa độ y của tâm đường tròn:  4\nNhập bán kính đường tròn:  6\nNhập tọa độ x điểm A:  3\nNhập tọa độ y của điểm A:  2\n"
        },
        {
          "name": "stdout",
          "output_type": "stream",
          "text": "A nằm trong đường tròn\n"
        }
      ],
      "execution_count": 81
    },
    {
      "id": "ca64f417-b233-4e0b-832e-e1ed310f1813",
      "cell_type": "code",
      "source": "# Bài 11\nx = float(input(\"Nhập 1 số thực x\"))\ny = float(input(\"Nhập số mũ thực y\"))\nprint(\"x^y =\", x ** y)",
      "metadata": {
        "trusted": true
      },
      "outputs": [
        {
          "output_type": "stream",
          "name": "stdin",
          "text": "Nhập 1 số thực x 6\nNhập số mũ thực y 8.8\n"
        },
        {
          "name": "stdout",
          "output_type": "stream",
          "text": "x^y = 7042567.259535878\n"
        }
      ],
      "execution_count": 79
    }
  ]
}